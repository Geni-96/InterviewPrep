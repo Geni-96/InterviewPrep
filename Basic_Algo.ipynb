{
  "nbformat": 4,
  "nbformat_minor": 0,
  "metadata": {
    "colab": {
      "provenance": []
    },
    "kernelspec": {
      "name": "python3",
      "display_name": "Python 3"
    },
    "language_info": {
      "name": "python"
    }
  },
  "cells": [
    {
      "cell_type": "markdown",
      "source": [
        "For better time complexity:\n",
        "\n",
        "Binary search.\n",
        "\n",
        "heap - when finding maximum or minimum is involved\n",
        "\n",
        "\n",
        "Set/Dict/LinkedList - When in need of constant time search, insert, delete.\n",
        "\n",
        "Combination of Data Structures."
      ],
      "metadata": {
        "id": "j8SxEsmFUPCH"
      }
    },
    {
      "cell_type": "markdown",
      "source": [
        "**Take a look at the following Data Structures:**\n",
        "\n",
        "Stack, monotonic stack\n",
        "\n",
        "Min Heap, max heap\n",
        "\n",
        "queue, deque\n",
        "\n",
        "LinkedList - fast and slow pointer, dummy node\n",
        "\n",
        "\n",
        "**Imports:**\n",
        "\n",
        "collections import deque, default dict\n",
        "\n",
        "Counter\n",
        "\n",
        "**Topics**\n",
        "\n",
        "Graphs, Mininum spanning trees\n",
        "\n",
        "Trees, BST\n",
        "\n",
        "DP\n",
        "\n",
        "String matching, sliding window\n",
        "\n",
        "bit manipulation\n",
        "\n",
        "Divide and conquer\n",
        "\n",
        "Data processing - merge k sorted arrays, priority queue\n",
        "\n",
        "Time and space complexities\n"
      ],
      "metadata": {
        "id": "gxZMNeR5WuuK"
      }
    },
    {
      "cell_type": "markdown",
      "source": [
        "**Kadane's Algorithm**"
      ],
      "metadata": {
        "id": "DZsHdFju0F2m"
      }
    },
    {
      "cell_type": "code",
      "source": [
        "# Maximum subarray\n",
        "class Solution:\n",
        "    def maxSubArray(self, nums: List[int]) -> int:\n",
        "        cursum = 0\n",
        "        ans = float('-inf')\n",
        "        i = 0\n",
        "        for j in range(len(nums)):\n",
        "            cursum+=nums[j]\n",
        "            ans = max(ans,cursum)\n",
        "            while cursum<0:\n",
        "                cursum-=nums[i]\n",
        "                i+=1\n",
        "        return ans"
      ],
      "metadata": {
        "id": "_5TdDfr90Kft"
      },
      "execution_count": null,
      "outputs": []
    },
    {
      "cell_type": "markdown",
      "source": [
        "**Binary Search**"
      ],
      "metadata": {
        "id": "0eppkusNVFuS"
      }
    },
    {
      "cell_type": "code",
      "execution_count": null,
      "metadata": {
        "id": "Cu7BKdC-TzPx"
      },
      "outputs": [],
      "source": [
        "def search(self, nums: List[int], target: int) -> int:\n",
        "    i = 0\n",
        "    j = len(nums)-1\n",
        "    while i<=j:\n",
        "        mid = (i+j)//2\n",
        "        if nums[mid]<target:\n",
        "            i = mid+1\n",
        "        elif nums[mid]>target:\n",
        "            j = mid-1\n",
        "        else:\n",
        "            return mid\n",
        "    return -1"
      ]
    },
    {
      "cell_type": "markdown",
      "source": [
        "**Pre order, Post Order, Level Order, In Order**"
      ],
      "metadata": {
        "id": "jm4vzdRyVPY_"
      }
    },
    {
      "cell_type": "code",
      "source": [
        "#Return postorder\n",
        "Function Postorder(tree)\n",
        "  return Postorder(left-subtree) + Postorder(right-subtree) + root\n",
        "\n",
        "#Way 2\n",
        "class Node:\n",
        "    def __init__(self, key):\n",
        "        self.left = None\n",
        "        self.right = None\n",
        "        self.val = key\n",
        "\n",
        "def postorder(node):\n",
        "  if node.left:\n",
        "    postorder(node.left)\n",
        "  if node.right:\n",
        "    postorder(node.right)\n",
        "  print(node.val,end=\" \")\n",
        "\n",
        "def inorder(node):\n",
        "  if node.left:\n",
        "    inorder(node.left)\n",
        "  print(node.val,end=\" \")\n",
        "  if node.right:\n",
        "    inorder(node.right)\n",
        "\n",
        "def preorder(node):\n",
        "  print(node.val,end=\" \")\n",
        "  if node.left:\n",
        "    preorder(node.left)\n",
        "  if node.right:\n",
        "    preorder(node.right)\n",
        "\n",
        "# Driver code\n",
        "root = Node(1)\n",
        "root.left = Node(2)\n",
        "root.right = Node(3)\n",
        "root.left.left = Node(4)\n",
        "root.left.right = Node(5)\n",
        "\n",
        "print (\"\\nPostorder traversal of binary tree is\")\n",
        "postorder(root)\n",
        "\n",
        "print (\"\\nInorder traversal of binary tree is\")\n",
        "inorder(root)\n",
        "\n",
        "print(\"\\nPreorder traversal of binary tree is\")\n",
        "preorder(root)"
      ],
      "metadata": {
        "id": "fijPsNjOVbwl"
      },
      "execution_count": null,
      "outputs": []
    },
    {
      "cell_type": "markdown",
      "source": [
        "**BFS**"
      ],
      "metadata": {
        "id": "r4yeR0ubWDag"
      }
    },
    {
      "cell_type": "code",
      "source": [
        "q = [start]\n",
        "visited = [False]*number of vertices\n",
        "visited[start] = True\n",
        "while q:\n",
        "  node = q.popleft()\n",
        "  print(node.val)\n",
        "  for neighbor in neighbors[node]:\n",
        "    if neighbor not in visited:\n",
        "      q.append(neighbor)\n",
        "      visited[neighbor] = True"
      ],
      "metadata": {
        "id": "h31zrtQfWFdZ"
      },
      "execution_count": null,
      "outputs": []
    },
    {
      "cell_type": "markdown",
      "source": [
        "**DFS**"
      ],
      "metadata": {
        "id": "EhsvCx6iWJLg"
      }
    },
    {
      "cell_type": "code",
      "source": [
        "#DFS\n",
        "from collections import defaultdict\n",
        "class Graph:\n",
        "\tdef __init__(self):\n",
        "\t\tself.graph = defaultdict(list)\n",
        "\tdef addEdge(self, u, v):\n",
        "\t\tself.graph[u].append(v)\n",
        "\n",
        "\tdef DFSUtil(self, v, visited):\n",
        "\t\tvisited.add(v)\n",
        "\t\tprint(v, end=' ')\n",
        "\t\tfor neighbour in self.graph[v]:\n",
        "\t\t\tif neighbour not in visited:\n",
        "\t\t\t\tself.DFSUtil(neighbour, visited)\n",
        "\tdef DFS(self, v):\n",
        "\t\tvisited = set()\n",
        "\t\tself.DFSUtil(v, visited)\n",
        "\n",
        "if __name__ == \"__main__\":\n",
        "\tg = Graph()\n",
        "\tg.addEdge(0, 1)\n",
        "\tg.addEdge(0, 2)\n",
        "\tg.addEdge(1, 2)\n",
        "\tg.addEdge(2, 0)\n",
        "\tg.addEdge(2, 3)\n",
        "\tg.addEdge(3, 3)\n",
        "\n",
        "\tprint(\"Following is Depth First Traversal (starting from vertex 2)\")\n",
        "\n",
        "\tg.DFS(2)"
      ],
      "metadata": {
        "id": "Bm-nZTQHWHcd"
      },
      "execution_count": null,
      "outputs": []
    },
    {
      "cell_type": "markdown",
      "source": [
        "**Reverse Linked List**"
      ],
      "metadata": {
        "id": "QRKZ4YQtbYBe"
      }
    },
    {
      "cell_type": "code",
      "source": [
        "def Reverse(head):\n",
        "  if not head:\n",
        "    return\n",
        "  temp = head.next\n",
        "  head.next = head.prev\n",
        "  head.prev = temp\n",
        "  if not head.prev:\n",
        "    return head\n",
        "\n",
        "  return Reverse(head.prev)"
      ],
      "metadata": {
        "id": "18OYi7K6bfpA"
      },
      "execution_count": null,
      "outputs": []
    },
    {
      "cell_type": "markdown",
      "source": [
        "Topological Sort"
      ],
      "metadata": {
        "id": "JNMWsNfkb4oi"
      }
    },
    {
      "cell_type": "code",
      "source": [
        "class Solution:\n",
        "    def canFinish(self, numCourses: int, prerequisites: List[List[int]]) -> bool:\n",
        "        adj = collections.defaultdict(list)\n",
        "        visit = set()\n",
        "        path = set()\n",
        "        for a,b in prerequisites:\n",
        "            adj[a].append(b)\n",
        "\n",
        "        def dfs(i):\n",
        "            if i in path:\n",
        "                # print('visit',i)\n",
        "                return False\n",
        "            path.add(i)\n",
        "            # if i not in adj:\n",
        "            #     return True\n",
        "            for nei in adj[i]:\n",
        "                if not dfs(nei):\n",
        "                    print(nei,'nei')\n",
        "                    return False\n",
        "            path.remove(i)\n",
        "            visit.add(i)\n",
        "            return True\n",
        "        for i in range(numCourses):\n",
        "            if not dfs(i):\n",
        "                return False\n",
        "        return True"
      ],
      "metadata": {
        "id": "2woMDBeHb7ny"
      },
      "execution_count": null,
      "outputs": []
    },
    {
      "cell_type": "markdown",
      "source": [
        "**Invert a Binary Tree**"
      ],
      "metadata": {
        "id": "EGroheohb_Ty"
      }
    },
    {
      "cell_type": "code",
      "source": [
        "def invertTree(self, root: Optional[TreeNode]) -> Optional[TreeNode]:\n",
        "    node = root\n",
        "    if not node:\n",
        "        return\n",
        "    temp = node.right\n",
        "    node.right = node.left\n",
        "    node.left = temp\n",
        "    self.invertTree(node.left)\n",
        "    self.invertTree(node.right)\n",
        "    return root"
      ],
      "metadata": {
        "id": "wjASi-4XfjhY"
      },
      "execution_count": null,
      "outputs": []
    },
    {
      "cell_type": "markdown",
      "source": [
        "**Depth of binary tree**"
      ],
      "metadata": {
        "id": "wf3uqY7khSpy"
      }
    },
    {
      "cell_type": "code",
      "source": [
        "def maxDepth(self, root: Optional[TreeNode]) -> int:\n",
        "    if not root:\n",
        "        return 0\n",
        "    right = 1+self.maxDepth(root.right)\n",
        "    left = 1+self.maxDepth(root.left)\n",
        "    return max(right,left)"
      ],
      "metadata": {
        "id": "0TIj9KgOhVSC"
      },
      "execution_count": null,
      "outputs": []
    },
    {
      "cell_type": "markdown",
      "source": [
        "**Trie**"
      ],
      "metadata": {
        "id": "UQ87BArh-apF"
      }
    },
    {
      "cell_type": "code",
      "source": [
        "class TrieNode:\n",
        "    def __init__(self):\n",
        "        self.children = {}\n",
        "        self.endOfWord = False\n",
        "\n",
        "class WordDictionary:\n",
        "\n",
        "    def __init__(self):\n",
        "        self.root = TrieNode()\n",
        "\n",
        "    def addWord(self, word: str) -> None:\n",
        "        cur = self.root\n",
        "        for c in word:\n",
        "            if c not in cur.children:\n",
        "                cur.children[c]= TrieNode()\n",
        "            cur = cur.children[c]\n",
        "        cur.endOfWord = True\n",
        "\n",
        "    def search(self, word: str) -> bool:\n",
        "        def dfs(i,cur):\n",
        "            if i==len(word):\n",
        "                if cur.endOfWord:\n",
        "                    return True\n",
        "                else:\n",
        "                    return False\n",
        "            if not cur.children:\n",
        "                return False\n",
        "            if word[i]==\".\":\n",
        "                for char in cur.children:\n",
        "                    # temp = ord(char)-ord('a')\n",
        "                    if dfs(i+1,cur.children[char]):\n",
        "                        return True\n",
        "                else:\n",
        "                  return False\n",
        "            else:\n",
        "                if word[i] not in cur.children:\n",
        "                    return False\n",
        "                return dfs(i+1,cur.children[word[i]])\n",
        "        return dfs(0,self.root)\n",
        "a = WordDictionary()\n",
        "print(a.addWord('dog'))\n",
        "print(a.search('do..'))"
      ],
      "metadata": {
        "colab": {
          "base_uri": "https://localhost:8080/"
        },
        "id": "Q56PGlhky0FE",
        "outputId": "3f478c53-4e69-4403-af19-589ddb28931a"
      },
      "execution_count": null,
      "outputs": [
        {
          "output_type": "stream",
          "name": "stdout",
          "text": [
            "None\n",
            "False\n"
          ]
        }
      ]
    },
    {
      "cell_type": "markdown",
      "source": [
        "**Quick Sort**\n",
        "- Pick a pivot and place it in it's right position\n",
        "- Smaller elements than pivot on left and larger on right\n",
        "- repeat the process for left subarray and right subarray\n",
        "- Start at array ends and find first element greater than pivot from left and first element smaller than pivot from right and swap them.\n",
        "- Repeat this until left_ptr <= right_ptr.\n",
        "- Then choose a new pivot and repeat."
      ],
      "metadata": {
        "id": "MlrZfIAQbPg3"
      }
    },
    {
      "cell_type": "code",
      "source": [
        "class Solution:\n",
        "    #Function to sort a list using quick sort algorithm.\n",
        "    def quickSort(self,arr,low,high):\n",
        "        # code here\n",
        "        if low<high:\n",
        "            # print(arr,low,high)\n",
        "            j = self.partition(arr,low,high)\n",
        "            self.quickSort(arr,low,j)\n",
        "            self.quickSort(arr,j+1,high)\n",
        "\n",
        "\n",
        "    def partition(self,arr,low,high):\n",
        "        # code here\n",
        "        pivot = arr[low]\n",
        "        i = low\n",
        "        j=high\n",
        "        while i<j:\n",
        "            while i<high and arr[i]<=pivot:\n",
        "                i+=1\n",
        "            while j>low and arr[j]>=pivot:\n",
        "                j-=1\n",
        "            if i<j:\n",
        "                arr[i],arr[j]=arr[j],arr[i]\n",
        "        arr[low],arr[j] = arr[j],arr[low]\n",
        "        return j"
      ],
      "metadata": {
        "id": "XpFAOvw0bM4_"
      },
      "execution_count": null,
      "outputs": []
    },
    {
      "cell_type": "markdown",
      "source": [
        "**Merge Sort**"
      ],
      "metadata": {
        "id": "Hj6LK56ibVAt"
      }
    },
    {
      "cell_type": "code",
      "source": [
        "class Solution:\n",
        "    def sortArray(self, nums: List[int]) -> List[int]:\n",
        "\n",
        "        def merge(arr,L,R,M):\n",
        "            # print(L,R,M)\n",
        "            left,right = arr[L:M+1],arr[M+1:R+1]\n",
        "            i,j,k = L,0,0\n",
        "            while j<len(left) and k<len(right):\n",
        "                if left[j]<=right[k]:\n",
        "                    arr[i]=left[j]\n",
        "                    j+=1\n",
        "                else:\n",
        "                    arr[i]=right[k]\n",
        "                    k+=1\n",
        "                i+=1\n",
        "            while j<len(left):\n",
        "                arr[i]=left[j]\n",
        "                i+=1\n",
        "                j+=1\n",
        "            while k<len(right):\n",
        "                arr[i] = right[k]\n",
        "                k+=1\n",
        "                i+=1\n",
        "\n",
        "        def mergeSort(arr,l,r):\n",
        "            if l==r:\n",
        "                return arr\n",
        "            m = (l+r)//2\n",
        "            mergeSort(arr,l,m)\n",
        "            mergeSort(arr,m+1,r)\n",
        "            merge(arr,l,r,m)\n",
        "            return arr\n",
        "        return mergeSort(nums,0,len(nums)-1)"
      ],
      "metadata": {
        "id": "6JzRbtkobX-H"
      },
      "execution_count": null,
      "outputs": []
    },
    {
      "cell_type": "code",
      "source": [
        "def findItinerary(tickets):\n",
        "    tdict = {}\n",
        "    output = ['JFK']\n",
        "    for s,e in tickets:\n",
        "        if s in tdict:\n",
        "            tdict[s].append(e)\n",
        "        else:\n",
        "            tdict[s]=[e]\n",
        "    for k,v in tdict.items():\n",
        "        tdict[k]=sorted(v)\n",
        "    def backtrack(loc):\n",
        "        nonlocal tdict\n",
        "        if len(output)==len(tickets)+1:\n",
        "            return True\n",
        "        if loc not in tdict:\n",
        "            return\n",
        "        dest = tdict[loc]\n",
        "        for i,d in enumerate(dest):\n",
        "            output.append(d)\n",
        "            tdict[loc].pop(i)\n",
        "            if backtrack(d):\n",
        "                return True\n",
        "            else:\n",
        "                tdict[loc].insert(i,output.pop())\n",
        "    backtrack('JFK')\n",
        "    return output\n",
        "findItinerary([[\"JFK\",\"SFO\"],[\"JFK\",\"ATL\"],[\"SFO\",\"ATL\"],[\"ATL\",\"JFK\"],[\"ATL\",\"SFO\"]])"
      ],
      "metadata": {
        "colab": {
          "base_uri": "https://localhost:8080/"
        },
        "id": "3D8p1l5hyDFh",
        "outputId": "1e28bc4d-7f95-4fb5-fd08-58b99424c199"
      },
      "execution_count": null,
      "outputs": [
        {
          "output_type": "execute_result",
          "data": {
            "text/plain": [
              "['JFK', 'ATL', 'JFK', 'SFO', 'ATL', 'SFO']"
            ]
          },
          "metadata": {},
          "execution_count": 19
        }
      ]
    },
    {
      "cell_type": "markdown",
      "source": [
        "**Union-Find**\n",
        "- For finding parent or path compression or union operation, the TC is 4-alpha."
      ],
      "metadata": {
        "id": "uDN0oc35lnla"
      }
    },
    {
      "cell_type": "code",
      "source": [
        "# Union-Find\n",
        "rows=len(isConnected)\n",
        "        parent = [i for i in range(rows)]\n",
        "        rank = [1]*rows\n",
        "        def find(par):\n",
        "            res = par\n",
        "            while parent[res]!=res:\n",
        "                print(parent[res],res)\n",
        "                parent[res] = parent[parent[res]]\n",
        "                res = parent[res]\n",
        "            return res\n",
        "        def union(n1,n2):\n",
        "            p1,p2 = find(n1),find(n2)\n",
        "            if p1==p2:\n",
        "                return 0\n",
        "            if rank[p1]>rank[p2]:\n",
        "                parent[p2]=p1\n",
        "                rank[p1]+=rank[p2]\n",
        "            else:\n",
        "                parent[p1]=p2\n",
        "                rank[p2]+=rank[p1]\n",
        "            return 1\n",
        "        comp_count = rows\n",
        "        for i in range(rows):\n",
        "            for j in range(i+1,rows):\n",
        "                if isConnected[i][j]==1:\n",
        "                    comp_count-=union(i,j)\n",
        "        return comp_count"
      ],
      "metadata": {
        "id": "WaK5R-XGlhNO"
      },
      "execution_count": null,
      "outputs": []
    },
    {
      "cell_type": "markdown",
      "source": [
        "**1D DP**"
      ],
      "metadata": {
        "id": "yioL27UXmV-g"
      }
    },
    {
      "cell_type": "code",
      "source": [
        "#User function Template for python3\n",
        "class Solution:\n",
        "    def minimizeCost(self, k, arr):\n",
        "        # code here\n",
        "        n = len(arr)\n",
        "        dp = [float('inf')]*n\n",
        "        dp[-1] = 0\n",
        "        for i in range(n-2,-1,-1):\n",
        "            for j in range(i+1,min(i+k+1,n)):\n",
        "                dp[i] = min(dp[i],dp[j]+abs(arr[j]-arr[i]))\n",
        "        return dp[0]\n",
        "\n",
        "        # dp = {}\n",
        "        # def backtrack(i):\n",
        "        #     if i==len(arr)-1:\n",
        "        #         return 0\n",
        "        #     if i in dp:\n",
        "        #         return dp[i]\n",
        "        #     res = float('inf')\n",
        "        #     for j in range(i+1,min(i+k+1,len(arr))):\n",
        "        #         res = min(res,backtrack(j)+abs(arr[j]-arr[i]))\n",
        "        #     dp[i] = res\n",
        "        #     # print(dp)\n",
        "        #     return res\n",
        "        # return backtrack(0)"
      ],
      "metadata": {
        "id": "8DzmZZhomU_A"
      },
      "execution_count": null,
      "outputs": []
    },
    {
      "cell_type": "code",
      "source": [
        "arr = [2, 3, 20]\n",
        "arr.sort(key=lambda x:str(x), reverse=True)\n",
        "print(arr)"
      ],
      "metadata": {
        "colab": {
          "base_uri": "https://localhost:8080/"
        },
        "id": "gnWZ69ynxNFw",
        "outputId": "fe6e27ef-96d1-4fe8-b0c8-6b9ea3982366"
      },
      "execution_count": null,
      "outputs": [
        {
          "output_type": "stream",
          "name": "stdout",
          "text": [
            "[3, 20, 2]\n"
          ]
        }
      ]
    },
    {
      "cell_type": "markdown",
      "source": [
        "**DP on Subsequences**"
      ],
      "metadata": {
        "id": "2rMGltBc2xXM"
      }
    },
    {
      "cell_type": "code",
      "source": [
        "#subset sum\n",
        "def isSubsetSum (arr, target):\n",
        "        # dp = {}\n",
        "        # def dfs(i,cursum):\n",
        "        #     if cursum==0:\n",
        "        #         return True\n",
        "        #     if i>=len(arr) or cursum<0:\n",
        "        #         return\n",
        "        #     if (i,cursum) in dp:\n",
        "        #         return dp[(i,cursum)]\n",
        "        #     dp[(i,cursum)] = dfs(i+1,cursum) or dfs(i+1, cursum-arr[i])\n",
        "        #     return dp[(i,cursum)]\n",
        "        # return dfs(0,target)\n",
        "\n",
        "        dp = [[False]*(target+1) for _ in range(len(arr)+1)]\n",
        "        dp[0][0] = True\n",
        "        for i in range(1,len(arr)+1):\n",
        "            dp[i][0] = True\n",
        "            for j in range(1,target+1):\n",
        "                if j-arr[i-1]>=0:\n",
        "                    dp[i][j] = dp[i-1][j-arr[i-1]] or dp[i-1][j]\n",
        "                else:\n",
        "                    dp[i][j] = dp[i-1][j]\n",
        "        print(dp)\n",
        "        return dp[len(arr)][target]\n",
        "isSubsetSum([])"
      ],
      "metadata": {
        "id": "1kZqs99H2n-8"
      },
      "execution_count": null,
      "outputs": []
    },
    {
      "cell_type": "markdown",
      "source": [
        "**DP on Grids**"
      ],
      "metadata": {
        "id": "7wKH9LY8lc-j"
      }
    },
    {
      "cell_type": "code",
      "source": [
        "#User function Template for python3\n",
        "\n",
        "class Solution:\n",
        "    def solve(self, m, n, grid):\n",
        "        # Code here\n",
        "\n",
        "\n",
        "        dp = [[0]*(n+2) for _ in range(n+2)]\n",
        "        for i in range(m-1,-1,-1):\n",
        "            nextdp = [[0]*(n+2) for _ in range(n+2)]\n",
        "            for j1 in range(n):\n",
        "                for j2 in range(n-1,-1,-1):\n",
        "                    if j1==j2:\n",
        "                        continue\n",
        "                    # print(j1,j2)\n",
        "                    nextdp[j1][j2] = grid[i][j1]+grid[i][j2]+max(dp[j1][j2],dp[j1+1][j2+1],dp[j1+1][j2],\n",
        "                            dp[j1][j2+1],dp[j1-1][j2],dp[j1][j2-1]\n",
        "                            ,dp[j1-1][j2-1],dp[j1-1][j2+1],dp[j1+1][j2-1])\n",
        "\n",
        "            dp = nextdp\n",
        "        return dp[0][n-1]\n",
        "\n",
        "        # dp = {}\n",
        "        # def backtrack(i,j1,j2):\n",
        "        #     if j1<0 or j1>n-1 or j2<0 or j2>n-1 or j1==j2:\n",
        "        #         return 0\n",
        "        #     if i==m:\n",
        "        #         return 0\n",
        "        #     if (i,j1,j2) in dp:\n",
        "        #       return dp[(i,j1,j2)]\n",
        "        #     dp[(i,j1,j2)] = max(backtrack(i+1,j1+1,j2+1),backtrack(i+1,j1,j2+1),\n",
        "        #               backtrack(i+1,j1-1,j2),backtrack(i+1,j1,j2-1),\n",
        "        #               backtrack(i+1,j1,j2),backtrack(i+1,j1-1,j2-1),\n",
        "        #               backtrack(i+1,j1-1,j2+1),backtrack(i+1,j1+1,j2-1),\n",
        "        #               backtrack(i+1,j1+1,j2))+grid[i][j1]+grid[i][j2]\n",
        "        #     return dp[(i,j1,j2)]\n",
        "\n",
        "        # return backtrack(0,0,n-1)"
      ],
      "metadata": {
        "id": "-uq0nujMlhDQ"
      },
      "execution_count": null,
      "outputs": []
    },
    {
      "cell_type": "markdown",
      "source": [
        "**Meet in the middle**\n",
        "\n",
        "Brute force:- To calculate all possible subsets - 2^n because for every element we have 2 choices - take or not take.\n",
        "\n",
        "Steps:\n",
        "1. Divide the array into 2 equal parts.\n",
        "2. Find all possible subset sums - 2*2^(n/2)\n",
        "3. Sort the 2nd subarray and then for each value in first subarray find a suitable value in 2nd subarray where x+y<=target. Since 2nd array is sorted, we can use binary search. - n/2 * (2^ n/2)\n",
        "\n"
      ],
      "metadata": {
        "id": "xrvPUsaYmgvZ"
      }
    },
    {
      "cell_type": "code",
      "source": [
        "# LC 1755, LC 2035\n",
        "val = eval(\"9/5\")\n",
        "print(val)"
      ],
      "metadata": {
        "id": "ouMPnkxDmAJx",
        "colab": {
          "base_uri": "https://localhost:8080/"
        },
        "outputId": "8f953e3d-6412-4310-9256-5d0832a51717"
      },
      "execution_count": null,
      "outputs": [
        {
          "output_type": "stream",
          "name": "stdout",
          "text": [
            "1.8\n"
          ]
        }
      ]
    },
    {
      "cell_type": "markdown",
      "source": [
        "**Books Allocation - Hard Binary Search**\n",
        "- Binary search - Min of max or max of min"
      ],
      "metadata": {
        "id": "tci0AbAs5TIU"
      }
    },
    {
      "cell_type": "code",
      "source": [
        "def myAtoi(s):\n",
        "    # Code here\n",
        "    numlist = []\n",
        "    i=0\n",
        "    while i<len(s) and s[i]==\" \":\n",
        "        i+=1\n",
        "        continue\n",
        "    if s[i]==\"-\":\n",
        "        numlist.append(s[i])\n",
        "        i+=1\n",
        "    while i<len(s) and s[i].isdigit():\n",
        "        numlist.append(s[i])\n",
        "        i+=1\n",
        "    numstr = \"\".join(numlist)\n",
        "    num = int(numstr)\n",
        "    if num>0:\n",
        "      if num>((2**31)-1):\n",
        "        return ((2**31)-1)\n",
        "      else:\n",
        "        return num\n",
        "    if num<0:\n",
        "      if num>(-(2**31)-1):\n",
        "        return num\n",
        "      else:\n",
        "        return -((2**31)-1)\n",
        "myAtoi(\" 1231231231311133\")"
      ],
      "metadata": {
        "colab": {
          "base_uri": "https://localhost:8080/"
        },
        "id": "uFAhP80E_Fop",
        "outputId": "4c995b2b-f7a7-4700-d323-2117e9b201a3"
      },
      "execution_count": null,
      "outputs": [
        {
          "output_type": "execute_result",
          "data": {
            "text/plain": [
              "2147483647"
            ]
          },
          "metadata": {},
          "execution_count": 9
        }
      ]
    },
    {
      "cell_type": "markdown",
      "source": [
        "**Bipartite Graph**\n",
        "- color the graph with 2 alternating colors. no two adjacent nodes should have the same color. This means we can divide the graph’s vertices into two distinct sets where:\n",
        "\n",
        "- All edges connect vertices from one set to vertices in the other set.\n",
        "- No edges exist between vertices within the same set.\n",
        "- A non-cyclic linear graph is bipartite.\n",
        "- A cyclic graph with even cycle length(no.of edges in cycle) is bipartite."
      ],
      "metadata": {
        "id": "xEFsMxhEMz9B"
      }
    },
    {
      "cell_type": "code",
      "source": [
        "from collections import deque,defaultdict\n",
        "class Solution:\n",
        "    def isBipartite(self, graph: List[List[int]]) -> bool:\n",
        "        q = deque()\n",
        "        colors = [-1]*(len(graph)+1)\n",
        "        def bfs():\n",
        "            while q:\n",
        "                for i in range(len(q)):\n",
        "                    cur = q.popleft()\n",
        "                    for nei in graph[cur]:\n",
        "                        if colors[nei]==-1:\n",
        "                            colors[nei]=not(colors[cur])\n",
        "                            q.append(nei)\n",
        "                        else:\n",
        "                            if colors[nei]==colors[cur]:\n",
        "                                return False\n",
        "            return True\n",
        "        for i in range(len(graph)):\n",
        "            if colors[i]==-1:\n",
        "                q.append(i)\n",
        "                colors[i]=0\n",
        "                if not bfs():\n",
        "                    return False\n",
        "        return True\n"
      ],
      "metadata": {
        "colab": {
          "base_uri": "https://localhost:8080/"
        },
        "id": "uwW2V17a1eOW",
        "outputId": "39922b71-c6be-45e2-9ace-df03c65f5e63"
      },
      "execution_count": null,
      "outputs": [
        {
          "output_type": "execute_result",
          "data": {
            "text/plain": [
              "1"
            ]
          },
          "metadata": {},
          "execution_count": 2
        }
      ]
    },
    {
      "cell_type": "markdown",
      "source": [
        "**Topo sort BFS - Kahn's algorithm**"
      ],
      "metadata": {
        "id": "pZWcqznPmbXk"
      }
    },
    {
      "cell_type": "code",
      "source": [
        "from collections import defaultdict,deque\n",
        "class Solution:\n",
        "\n",
        "    def topoSort(self, V, edges):\n",
        "        # Code here\n",
        "        adj = defaultdict(list)\n",
        "        indegree = [0]*(V)\n",
        "        q = deque()\n",
        "        ans = []\n",
        "        for u,v in edges:\n",
        "            adj[u].append(v)\n",
        "            indegree[v]+=1\n",
        "\n",
        "        for i in range(V):\n",
        "            if indegree[i]==0:\n",
        "                q.append(i)\n",
        "\n",
        "        while q:\n",
        "            cur = q.popleft()\n",
        "            ans.append(cur)\n",
        "            for nei in adj[cur]:\n",
        "                indegree[nei]-=1\n",
        "                if indegree[nei]==0:\n",
        "                    q.append(nei)\n",
        "\n",
        "        # print(ans)\n",
        "        return ans"
      ],
      "metadata": {
        "id": "xiCUdAl7mst5"
      },
      "execution_count": null,
      "outputs": []
    },
    {
      "cell_type": "markdown",
      "source": [
        "**Dijkstra's Algorithm**\n",
        "- use heap\n",
        "- use set (set also stores it's values in ascending order. so it can be used.)\n",
        "- dijkstra's doesn't work for negative weights or cyclic graphs"
      ],
      "metadata": {
        "id": "fzpRFJ8fphmO"
      }
    },
    {
      "cell_type": "code",
      "source": [
        "# heap\n",
        "from collections import defaultdict\n",
        "import heapq\n",
        "class Solution:\n",
        "    # Returns shortest distances from src to all other vertices\n",
        "    def dijkstra(self, V, edges, src):\n",
        "        # code here\n",
        "        ans = [float('inf')]*V\n",
        "        adj = defaultdict(list)\n",
        "        for u,v,w in edges:\n",
        "            adj[u].append((v,w))\n",
        "        ans[src]=0\n",
        "        heap = [] # -> it's supposed to work if i use q but i got time limit exceeded\n",
        "        heapq.heappush(heap,(0,src))\n",
        "        while heap:\n",
        "            dist,node = heapq.heappop(heap)\n",
        "            for nei,wt in adj[node]:\n",
        "                if dist+wt<ans[nei]:\n",
        "                    ans[nei]=dist+wt # -> if we use set, we do a remove operation here when we get a shorter dist\n",
        "                    heapq.heappush(heap,(dist+wt, nei))\n",
        "        return ans"
      ],
      "metadata": {
        "id": "1Yvyw46epp1X"
      },
      "execution_count": null,
      "outputs": []
    },
    {
      "cell_type": "markdown",
      "source": [
        "**Bellman-Ford Algorithm**\n",
        "- works for directed graphs even with negative edges and negative cycles where dijkstra's algo fails.\n",
        "- if you have a undirected graph, convert it to directed for this to work."
      ],
      "metadata": {
        "id": "kkLDHfsf_R1A"
      }
    },
    {
      "cell_type": "code",
      "source": [
        "from collections import defaultdict\n",
        "import heapq\n",
        "class Solution:\n",
        "    def bellmanFord(self, V, edges, src):\n",
        "        #code here\n",
        "        dist = [10**8]*V\n",
        "        dist[src]=0\n",
        "        for i in range(V-1):\n",
        "            for u,v,w in edges:\n",
        "                if dist[u]!=10**8 and dist[u]+w<dist[v]:\n",
        "                    dist[v] = dist[u]+w\n",
        "\n",
        "        #check negative cycle\n",
        "        for u,v,w in edges:\n",
        "            if dist[u]!=10**8 and dist[u]+w<dist[v]:\n",
        "                return [-1]\n",
        "        return dist"
      ],
      "metadata": {
        "id": "R5KO9go5_lKe"
      },
      "execution_count": null,
      "outputs": []
    },
    {
      "cell_type": "markdown",
      "source": [
        "**Floyd-Warshall Algorithm**\n",
        "- multi-source shortest path algorithm.\n",
        "- works for negative edges as well.\n",
        "- graph should be directed."
      ],
      "metadata": {
        "id": "POC1SueI_w04"
      }
    },
    {
      "cell_type": "code",
      "source": [
        "class Solution:\n",
        "\tdef floydWarshall(self, dist):\n",
        "\t\t#Code here\n",
        "\t\tl = len(dist)\n",
        "\t\tfor via in range(l):\n",
        "\t\t    for i in range(l):\n",
        "\t\t        for j in range(l):\n",
        "                #negative edge detection\n",
        "                if dist[i][j]<0:\n",
        "                    return -1\n",
        "                # you don't want to check dist from node to itself.\n",
        "                # you want to skip if there's no edge between 2 nodes yet.\n",
        "\t\t            if i==j or dist[i][via]==10**8 or dist[via][j]==10**8:\n",
        "\t\t                continue\n",
        "\t\t            dist[i][j] = min(dist[i][via]+dist[via][j], dist[i][j])\n"
      ],
      "metadata": {
        "id": "Ia94sUa6LdmP"
      },
      "execution_count": null,
      "outputs": []
    },
    {
      "cell_type": "markdown",
      "source": [
        "**Minimum Spanning Tree**\n",
        "- A graph with n nodes, n-1 edges and all nodes are reachable from one another.\n",
        "- Prim's algo helps you find the weight of mst as well as the edges that constitute mst."
      ],
      "metadata": {
        "id": "0GtySTHOVano"
      }
    },
    {
      "cell_type": "code",
      "source": [
        "from typing import List\n",
        "from collections import defaultdict\n",
        "import heapq\n",
        "class Solution:\n",
        "\n",
        "    #Function to find sum of weights of edges of the Minimum Spanning Tree.\n",
        "    def spanningTree(self, V: int, adj: List[List[int]]) -> int:\n",
        "        #code here\n",
        "        adjList = defaultdict(list)\n",
        "        ans = 0\n",
        "        # print(adj)\n",
        "        for i in range(V):\n",
        "            for v,w in adj[i]:\n",
        "                adjList[i].append((v,w))\n",
        "        # print(adjList)\n",
        "        vis = [0]*V\n",
        "        heap = []\n",
        "        heapq.heappush(heap,(0,0))\n",
        "        while heap:\n",
        "            wt,node = heapq.heappop(heap)\n",
        "            if not vis[node]:\n",
        "                ans+=wt\n",
        "                vis[node]=1\n",
        "            for nei,neiwt in adjList[node]:\n",
        "                # print(nei,neiwt)\n",
        "                if not vis[nei]:\n",
        "                    heapq.heappush(heap,(neiwt,nei))\n",
        "        return ans"
      ],
      "metadata": {
        "id": "DiEU1ywcsWUR"
      },
      "execution_count": null,
      "outputs": []
    },
    {
      "cell_type": "markdown",
      "source": [
        "**Strongly Connected Components**\n",
        "- Works for Directed graphs\n",
        "- step1: sort the edges according to finishing time(like we do in topo sort. post-order)\n",
        "- step2: reverse all the edges in graph.\n",
        "- Now do the dfs and you won't be able to reach the weaker connections now."
      ],
      "metadata": {
        "id": "NfXszEMAs5VG"
      }
    },
    {
      "cell_type": "code",
      "source": [
        "#strongly connected gfg\n",
        "class Solution:\n",
        "\n",
        "    def kosaraju(self, adj):\n",
        "        #code here\n",
        "        n = len(adj)\n",
        "        stack = []\n",
        "        def dfs(node):\n",
        "            vis[node]=1\n",
        "            for nei in adj[node]:\n",
        "                if not vis[nei]:\n",
        "                    dfs(nei)\n",
        "            stack.append(node)\n",
        "\n",
        "        def dfs1(node):\n",
        "            vis[node]=1\n",
        "            for nei in revAdj[node]:\n",
        "                if not vis[nei]:\n",
        "                    dfs1(nei)\n",
        "        vis = [0]*n\n",
        "        for i in range(n):\n",
        "            if not vis[i]:\n",
        "                dfs(i)\n",
        "        # print(stack,vis)\n",
        "        revAdj = [[] for _ in range(n)]\n",
        "        vis = [0]*n\n",
        "        for i in range(n):\n",
        "            for nei in adj[i]:\n",
        "                revAdj[nei].append(i)\n",
        "\n",
        "        ans = 0\n",
        "        while stack:\n",
        "            i = stack.pop()\n",
        "            if not vis[i]:\n",
        "                dfs1(i)\n",
        "                ans+=1\n",
        "        return ans"
      ],
      "metadata": {
        "id": "bemXsE67AOE4"
      },
      "execution_count": null,
      "outputs": []
    }
  ]
}